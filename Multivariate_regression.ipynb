{
  "nbformat": 4,
  "nbformat_minor": 0,
  "metadata": {
    "colab": {
      "name": "Multivariate regression.ipynb",
      "provenance": [],
      "collapsed_sections": [],
      "authorship_tag": "ABX9TyN6KZGMEHkaD7+80eLV4J2E",
      "include_colab_link": true
    },
    "kernelspec": {
      "name": "python3",
      "display_name": "Python 3"
    },
    "language_info": {
      "name": "python"
    }
  },
  "cells": [
    {
      "cell_type": "markdown",
      "metadata": {
        "id": "view-in-github",
        "colab_type": "text"
      },
      "source": [
        "<a href=\"https://colab.research.google.com/github/Thirunavukarasu-jpeg/Machine_learning/blob/main/Multivariate_regression.ipynb\" target=\"_parent\"><img src=\"https://colab.research.google.com/assets/colab-badge.svg\" alt=\"Open In Colab\"/></a>"
      ]
    },
    {
      "cell_type": "code",
      "metadata": {
        "id": "pQAmrC38stCd"
      },
      "source": [
        "import pandas as pd\n",
        "import matplotlib.pyplot as plt\n",
        "from sklearn import linear_model\n"
      ],
      "execution_count": 1,
      "outputs": []
    },
    {
      "cell_type": "code",
      "metadata": {
        "colab": {
          "base_uri": "https://localhost:8080/"
        },
        "id": "HWsfagoxtu0-",
        "outputId": "66433d72-ada8-4359-edb0-e8aa9a6a1fad"
      },
      "source": [
        "df = pd.read_csv('/content/homeprices.csv')\n",
        "\n"
      ],
      "execution_count": 7,
      "outputs": [
        {
          "output_type": "execute_result",
          "data": {
            "text/plain": [
              "4"
            ]
          },
          "metadata": {},
          "execution_count": 7
        }
      ]
    },
    {
      "cell_type": "code",
      "metadata": {
        "colab": {
          "base_uri": "https://localhost:8080/",
          "height": 235
        },
        "id": "Uq5uzcWsuW3u",
        "outputId": "a964d018-723b-45c6-ae21-1a6eed32ce34"
      },
      "source": [
        "df.bedrooms = df.bedrooms.fillna(int(df.bedrooms.median()))\n",
        "df\n"
      ],
      "execution_count": 11,
      "outputs": [
        {
          "output_type": "execute_result",
          "data": {
            "text/html": [
              "<div>\n",
              "<style scoped>\n",
              "    .dataframe tbody tr th:only-of-type {\n",
              "        vertical-align: middle;\n",
              "    }\n",
              "\n",
              "    .dataframe tbody tr th {\n",
              "        vertical-align: top;\n",
              "    }\n",
              "\n",
              "    .dataframe thead th {\n",
              "        text-align: right;\n",
              "    }\n",
              "</style>\n",
              "<table border=\"1\" class=\"dataframe\">\n",
              "  <thead>\n",
              "    <tr style=\"text-align: right;\">\n",
              "      <th></th>\n",
              "      <th>area</th>\n",
              "      <th>bedrooms</th>\n",
              "      <th>age</th>\n",
              "      <th>price</th>\n",
              "    </tr>\n",
              "  </thead>\n",
              "  <tbody>\n",
              "    <tr>\n",
              "      <th>0</th>\n",
              "      <td>2600</td>\n",
              "      <td>3.0</td>\n",
              "      <td>20</td>\n",
              "      <td>550000</td>\n",
              "    </tr>\n",
              "    <tr>\n",
              "      <th>1</th>\n",
              "      <td>3000</td>\n",
              "      <td>4.0</td>\n",
              "      <td>15</td>\n",
              "      <td>565000</td>\n",
              "    </tr>\n",
              "    <tr>\n",
              "      <th>2</th>\n",
              "      <td>3200</td>\n",
              "      <td>4.0</td>\n",
              "      <td>18</td>\n",
              "      <td>610000</td>\n",
              "    </tr>\n",
              "    <tr>\n",
              "      <th>3</th>\n",
              "      <td>3600</td>\n",
              "      <td>3.0</td>\n",
              "      <td>30</td>\n",
              "      <td>595000</td>\n",
              "    </tr>\n",
              "    <tr>\n",
              "      <th>4</th>\n",
              "      <td>4000</td>\n",
              "      <td>5.0</td>\n",
              "      <td>8</td>\n",
              "      <td>760000</td>\n",
              "    </tr>\n",
              "    <tr>\n",
              "      <th>5</th>\n",
              "      <td>4100</td>\n",
              "      <td>6.0</td>\n",
              "      <td>8</td>\n",
              "      <td>810000</td>\n",
              "    </tr>\n",
              "  </tbody>\n",
              "</table>\n",
              "</div>"
            ],
            "text/plain": [
              "   area  bedrooms  age   price\n",
              "0  2600       3.0   20  550000\n",
              "1  3000       4.0   15  565000\n",
              "2  3200       4.0   18  610000\n",
              "3  3600       3.0   30  595000\n",
              "4  4000       5.0    8  760000\n",
              "5  4100       6.0    8  810000"
            ]
          },
          "metadata": {},
          "execution_count": 11
        }
      ]
    },
    {
      "cell_type": "code",
      "metadata": {
        "colab": {
          "base_uri": "https://localhost:8080/"
        },
        "id": "rmdJbFJRv8E2",
        "outputId": "d3810c96-84ff-47ce-be49-2696353080c3"
      },
      "source": [
        "reg = linear_model.LinearRegression()\n",
        "reg.fit(df[['area','bedrooms','age']],df.price)"
      ],
      "execution_count": 12,
      "outputs": [
        {
          "output_type": "execute_result",
          "data": {
            "text/plain": [
              "LinearRegression(copy_X=True, fit_intercept=True, n_jobs=None, normalize=False)"
            ]
          },
          "metadata": {},
          "execution_count": 12
        }
      ]
    },
    {
      "cell_type": "code",
      "metadata": {
        "colab": {
          "base_uri": "https://localhost:8080/"
        },
        "id": "x2gkpjFYwSz1",
        "outputId": "8cd56f88-e06d-4ea6-c3b4-14170da3804a"
      },
      "source": [
        "reg.coef_"
      ],
      "execution_count": 13,
      "outputs": [
        {
          "output_type": "execute_result",
          "data": {
            "text/plain": [
              "array([  112.06244194, 23388.88007794, -3231.71790863])"
            ]
          },
          "metadata": {},
          "execution_count": 13
        }
      ]
    },
    {
      "cell_type": "code",
      "metadata": {
        "colab": {
          "base_uri": "https://localhost:8080/"
        },
        "id": "zJ8cW_3owZT-",
        "outputId": "43e34642-4ffa-43a2-e067-2a0ad68a8ea7"
      },
      "source": [
        "reg.intercept_"
      ],
      "execution_count": 14,
      "outputs": [
        {
          "output_type": "execute_result",
          "data": {
            "text/plain": [
              "221323.00186540396"
            ]
          },
          "metadata": {},
          "execution_count": 14
        }
      ]
    },
    {
      "cell_type": "code",
      "metadata": {
        "colab": {
          "base_uri": "https://localhost:8080/"
        },
        "id": "a6xbNI8AwejO",
        "outputId": "22da9163-7ae5-4267-9f2e-895724fd0287"
      },
      "source": [
        "reg.predict([[3000,3,1]])"
      ],
      "execution_count": 19,
      "outputs": [
        {
          "output_type": "execute_result",
          "data": {
            "text/plain": [
              "array([624445.25001699])"
            ]
          },
          "metadata": {},
          "execution_count": 19
        }
      ]
    },
    {
      "cell_type": "code",
      "metadata": {
        "colab": {
          "base_uri": "https://localhost:8080/"
        },
        "id": "a5TuflF70Dfq",
        "outputId": "a86098d8-12ad-48af-b5db-1dd436dcd53d"
      },
      "source": [
        "reg.predict([[2500,4,5]])"
      ],
      "execution_count": 20,
      "outputs": [
        {
          "output_type": "execute_result",
          "data": {
            "text/plain": [
              "array([578876.03748933])"
            ]
          },
          "metadata": {},
          "execution_count": 20
        }
      ]
    },
    {
      "cell_type": "code",
      "metadata": {
        "colab": {
          "base_uri": "https://localhost:8080/",
          "height": 297
        },
        "id": "p9gysrmT2N46",
        "outputId": "0827410d-c884-43d2-b0d5-1e5a82cd4ba0"
      },
      "source": [
        "reg_exercise = linear_model.LinearRegression()\n",
        "df_exercise = pd.read_csv('/content/hiring.csv')\n",
        "df_exercise\n"
      ],
      "execution_count": 69,
      "outputs": [
        {
          "output_type": "execute_result",
          "data": {
            "text/html": [
              "<div>\n",
              "<style scoped>\n",
              "    .dataframe tbody tr th:only-of-type {\n",
              "        vertical-align: middle;\n",
              "    }\n",
              "\n",
              "    .dataframe tbody tr th {\n",
              "        vertical-align: top;\n",
              "    }\n",
              "\n",
              "    .dataframe thead th {\n",
              "        text-align: right;\n",
              "    }\n",
              "</style>\n",
              "<table border=\"1\" class=\"dataframe\">\n",
              "  <thead>\n",
              "    <tr style=\"text-align: right;\">\n",
              "      <th></th>\n",
              "      <th>experience</th>\n",
              "      <th>test_score</th>\n",
              "      <th>interview_score</th>\n",
              "      <th>salary</th>\n",
              "    </tr>\n",
              "  </thead>\n",
              "  <tbody>\n",
              "    <tr>\n",
              "      <th>0</th>\n",
              "      <td>NaN</td>\n",
              "      <td>8.0</td>\n",
              "      <td>9</td>\n",
              "      <td>50000</td>\n",
              "    </tr>\n",
              "    <tr>\n",
              "      <th>1</th>\n",
              "      <td>NaN</td>\n",
              "      <td>8.0</td>\n",
              "      <td>6</td>\n",
              "      <td>45000</td>\n",
              "    </tr>\n",
              "    <tr>\n",
              "      <th>2</th>\n",
              "      <td>five</td>\n",
              "      <td>6.0</td>\n",
              "      <td>7</td>\n",
              "      <td>60000</td>\n",
              "    </tr>\n",
              "    <tr>\n",
              "      <th>3</th>\n",
              "      <td>two</td>\n",
              "      <td>10.0</td>\n",
              "      <td>10</td>\n",
              "      <td>65000</td>\n",
              "    </tr>\n",
              "    <tr>\n",
              "      <th>4</th>\n",
              "      <td>seven</td>\n",
              "      <td>9.0</td>\n",
              "      <td>6</td>\n",
              "      <td>70000</td>\n",
              "    </tr>\n",
              "    <tr>\n",
              "      <th>5</th>\n",
              "      <td>three</td>\n",
              "      <td>7.0</td>\n",
              "      <td>10</td>\n",
              "      <td>62000</td>\n",
              "    </tr>\n",
              "    <tr>\n",
              "      <th>6</th>\n",
              "      <td>ten</td>\n",
              "      <td>NaN</td>\n",
              "      <td>7</td>\n",
              "      <td>72000</td>\n",
              "    </tr>\n",
              "    <tr>\n",
              "      <th>7</th>\n",
              "      <td>eleven</td>\n",
              "      <td>7.0</td>\n",
              "      <td>8</td>\n",
              "      <td>80000</td>\n",
              "    </tr>\n",
              "  </tbody>\n",
              "</table>\n",
              "</div>"
            ],
            "text/plain": [
              "  experience  test_score  interview_score  salary\n",
              "0        NaN         8.0                9   50000\n",
              "1        NaN         8.0                6   45000\n",
              "2       five         6.0                7   60000\n",
              "3        two        10.0               10   65000\n",
              "4      seven         9.0                6   70000\n",
              "5      three         7.0               10   62000\n",
              "6        ten         NaN                7   72000\n",
              "7     eleven         7.0                8   80000"
            ]
          },
          "metadata": {},
          "execution_count": 69
        }
      ]
    },
    {
      "cell_type": "code",
      "metadata": {
        "colab": {
          "base_uri": "https://localhost:8080/"
        },
        "id": "FULQnDhP2f6C",
        "outputId": "f6cc7e58-3122-4826-b3b6-d8b0df351ee1"
      },
      "source": [
        "pip install word2number\n"
      ],
      "execution_count": 24,
      "outputs": [
        {
          "output_type": "stream",
          "name": "stdout",
          "text": [
            "Requirement already satisfied: word2number in /usr/local/lib/python3.7/dist-packages (1.1)\n"
          ]
        }
      ]
    },
    {
      "cell_type": "code",
      "metadata": {
        "id": "jCRJdKku2oXg"
      },
      "source": [
        "help_dict = {\n",
        "    'one': 1,\n",
        "    'two': 2,\n",
        "    'three': 3,\n",
        "    'four': 4,\n",
        "    'five': 5,\n",
        "    'six': 6,\n",
        "    'seven': 7,\n",
        "    'eight': 8,\n",
        "    'nine': 9,\n",
        "    'zero' : 0,\n",
        "    'ten':10,\n",
        "    'eleven':11\n",
        "}"
      ],
      "execution_count": 70,
      "outputs": []
    },
    {
      "cell_type": "code",
      "metadata": {
        "id": "PvCvOpHJ3fHJ"
      },
      "source": [
        "df_exercise.experience = df_exercise.experience.fillna('zero')\n",
        "df_exercise.test_score = df_exercise.test_score.fillna(int(df_exercise.test_score.median()))\n",
        "\n",
        "\n"
      ],
      "execution_count": 71,
      "outputs": []
    },
    {
      "cell_type": "code",
      "metadata": {
        "colab": {
          "base_uri": "https://localhost:8080/"
        },
        "id": "d6N1bKcy6pMw",
        "outputId": "6ed54ce1-f471-4053-e696-eb08548d7d75"
      },
      "source": [
        "for i in range(len(df_exercise.experience)):\n",
        "    df_exercise.experience[i] = help_dict[df_exercise.experience[i]]\n",
        "    "
      ],
      "execution_count": 72,
      "outputs": [
        {
          "output_type": "stream",
          "name": "stderr",
          "text": [
            "/usr/local/lib/python3.7/dist-packages/ipykernel_launcher.py:2: SettingWithCopyWarning: \n",
            "A value is trying to be set on a copy of a slice from a DataFrame\n",
            "\n",
            "See the caveats in the documentation: https://pandas.pydata.org/pandas-docs/stable/user_guide/indexing.html#returning-a-view-versus-a-copy\n",
            "  \n"
          ]
        }
      ]
    },
    {
      "cell_type": "code",
      "metadata": {
        "colab": {
          "base_uri": "https://localhost:8080/"
        },
        "id": "sQ5E50BQ5OCZ",
        "outputId": "0d05a555-8af7-4f41-dc0e-1a32ed861e38"
      },
      "source": [
        "reg_exercise.fit(df_exercise[['experience','test_score','interview_score']],df_exercise.salary)"
      ],
      "execution_count": 73,
      "outputs": [
        {
          "output_type": "execute_result",
          "data": {
            "text/plain": [
              "LinearRegression(copy_X=True, fit_intercept=True, n_jobs=None, normalize=False)"
            ]
          },
          "metadata": {},
          "execution_count": 73
        }
      ]
    },
    {
      "cell_type": "code",
      "metadata": {
        "colab": {
          "base_uri": "https://localhost:8080/"
        },
        "id": "2hYgOVKc69hA",
        "outputId": "1c2ce975-2607-46e3-f806-2dee08764d6a"
      },
      "source": [
        "reg_exercise.predict([[2,9,6]])"
      ],
      "execution_count": 74,
      "outputs": [
        {
          "output_type": "execute_result",
          "data": {
            "text/plain": [
              "array([53205.96797671])"
            ]
          },
          "metadata": {},
          "execution_count": 74
        }
      ]
    },
    {
      "cell_type": "code",
      "metadata": {
        "colab": {
          "base_uri": "https://localhost:8080/"
        },
        "id": "jYNM1hYB7hLK",
        "outputId": "da81d345-cb32-44d7-ca25-d3b7bc0608e1"
      },
      "source": [
        "reg_exercise.predict([[12,10,10]])\n"
      ],
      "execution_count": 75,
      "outputs": [
        {
          "output_type": "execute_result",
          "data": {
            "text/plain": [
              "array([92002.18340611])"
            ]
          },
          "metadata": {},
          "execution_count": 75
        }
      ]
    }
  ]
}